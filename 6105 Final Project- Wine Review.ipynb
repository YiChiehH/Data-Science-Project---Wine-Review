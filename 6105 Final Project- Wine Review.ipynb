{
 "cells": [
  {
   "cell_type": "code",
   "execution_count": 1,
   "id": "5304995d",
   "metadata": {},
   "outputs": [],
   "source": [
    "import pandas as pd\n",
    "from pandas.api.types import is_string_dtype,is_numeric_dtype\n",
    "from sklearn import preprocessing\n",
    "from sklearn.metrics import confusion_matrix,accuracy_score,matthews_corrcoef,f1_score, precision_score, recall_score\n",
    "import joblib\n",
    "from sklearn.model_selection import train_test_split\n",
    "from matplotlib import pyplot as plt\n",
    "import seaborn as sns\n",
    "import joblib\n",
    "from sklearn.ensemble import RandomForestClassifier\n",
    "from sklearn.ensemble import RandomForestRegressor\n",
    "from sklearn.model_selection import train_test_split\n",
    "from sklearn.feature_extraction.text import TfidfVectorizer\n",
    "from sklearn.model_selection import GridSearchCV\n",
    "from sklearn.naive_bayes import MultinomialNB\n",
    "from sklearn.svm import SVC\n",
    "import numpy as np\n",
    "\n",
    "%matplotlib inline"
   ]
  },
  {
   "cell_type": "code",
   "execution_count": 2,
   "id": "dafa33ba",
   "metadata": {},
   "outputs": [
    {
     "name": "stdout",
     "output_type": "stream",
     "text": [
      "(129971, 14)\n",
      "(1300, 14)\n"
     ]
    }
   ],
   "source": [
    "'''In terms of data amount, using complete dataset which included 130k data can get a better result. \n",
    "However, we encountered a significant challenge that our computer's memory reached its limits, \n",
    "effectively stalling the generation of results. To address this obstacle, we strategically turned to sampling. \n",
    "This involved condensing the original extensive dataset, which boasted 130,000 records, into a mere 1% representation. '''\n",
    "\n",
    "\n",
    "my_path = '/Users/zoeyhuang/Downloads/archive'\n",
    "data = pd.read_csv(f'{my_path}/winemag-data-130k-v2.csv')\n",
    "print(data.shape)\n",
    "\n",
    "data = data.sample(frac=0.01, random_state=42) \n",
    "print(data.shape)"
   ]
  },
  {
   "cell_type": "code",
   "execution_count": 3,
   "id": "a391afe7",
   "metadata": {},
   "outputs": [
    {
     "data": {
      "text/html": [
       "<div>\n",
       "<style scoped>\n",
       "    .dataframe tbody tr th:only-of-type {\n",
       "        vertical-align: middle;\n",
       "    }\n",
       "\n",
       "    .dataframe tbody tr th {\n",
       "        vertical-align: top;\n",
       "    }\n",
       "\n",
       "    .dataframe thead th {\n",
       "        text-align: right;\n",
       "    }\n",
       "</style>\n",
       "<table border=\"1\" class=\"dataframe\">\n",
       "  <thead>\n",
       "    <tr style=\"text-align: right;\">\n",
       "      <th></th>\n",
       "      <th>Unnamed: 0</th>\n",
       "      <th>country</th>\n",
       "      <th>description</th>\n",
       "      <th>designation</th>\n",
       "      <th>points</th>\n",
       "      <th>price</th>\n",
       "      <th>province</th>\n",
       "      <th>region_1</th>\n",
       "      <th>region_2</th>\n",
       "      <th>taster_name</th>\n",
       "      <th>taster_twitter_handle</th>\n",
       "      <th>title</th>\n",
       "      <th>variety</th>\n",
       "      <th>winery</th>\n",
       "    </tr>\n",
       "  </thead>\n",
       "  <tbody>\n",
       "    <tr>\n",
       "      <th>77718</th>\n",
       "      <td>77718</td>\n",
       "      <td>Australia</td>\n",
       "      <td>Possibly a little sweet, this is a soft, easyg...</td>\n",
       "      <td>NaN</td>\n",
       "      <td>83</td>\n",
       "      <td>5.0</td>\n",
       "      <td>Australia Other</td>\n",
       "      <td>South Eastern Australia</td>\n",
       "      <td>NaN</td>\n",
       "      <td>Joe Czerwinski</td>\n",
       "      <td>@JoeCz</td>\n",
       "      <td>Banrock Station 2006 Chardonnay (South Eastern...</td>\n",
       "      <td>Chardonnay</td>\n",
       "      <td>Banrock Station</td>\n",
       "    </tr>\n",
       "    <tr>\n",
       "      <th>67681</th>\n",
       "      <td>67681</td>\n",
       "      <td>France</td>\n",
       "      <td>A soft, almost off dry wine that is full in th...</td>\n",
       "      <td>Réserve</td>\n",
       "      <td>85</td>\n",
       "      <td>12.0</td>\n",
       "      <td>Rhône Valley</td>\n",
       "      <td>Côtes du Rhône</td>\n",
       "      <td>NaN</td>\n",
       "      <td>Roger Voss</td>\n",
       "      <td>@vossroger</td>\n",
       "      <td>Cellier des Dauphins 2015 Réserve Rosé (Côtes ...</td>\n",
       "      <td>Rosé</td>\n",
       "      <td>Cellier des Dauphins</td>\n",
       "    </tr>\n",
       "    <tr>\n",
       "      <th>69877</th>\n",
       "      <td>69877</td>\n",
       "      <td>Spain</td>\n",
       "      <td>Generic white-fruit aromas of peach and apple ...</td>\n",
       "      <td>Estate Grown &amp; Bottled</td>\n",
       "      <td>86</td>\n",
       "      <td>9.0</td>\n",
       "      <td>Northern Spain</td>\n",
       "      <td>Rueda</td>\n",
       "      <td>NaN</td>\n",
       "      <td>Michael Schachner</td>\n",
       "      <td>@wineschach</td>\n",
       "      <td>Esperanza 2013 Estate Grown &amp; Bottled Verdejo-...</td>\n",
       "      <td>Verdejo-Viura</td>\n",
       "      <td>Esperanza</td>\n",
       "    </tr>\n",
       "  </tbody>\n",
       "</table>\n",
       "</div>"
      ],
      "text/plain": [
       "       Unnamed: 0    country  \\\n",
       "77718       77718  Australia   \n",
       "67681       67681     France   \n",
       "69877       69877      Spain   \n",
       "\n",
       "                                             description  \\\n",
       "77718  Possibly a little sweet, this is a soft, easyg...   \n",
       "67681  A soft, almost off dry wine that is full in th...   \n",
       "69877  Generic white-fruit aromas of peach and apple ...   \n",
       "\n",
       "                  designation  points  price         province  \\\n",
       "77718                     NaN      83    5.0  Australia Other   \n",
       "67681                 Réserve      85   12.0     Rhône Valley   \n",
       "69877  Estate Grown & Bottled      86    9.0   Northern Spain   \n",
       "\n",
       "                      region_1 region_2        taster_name  \\\n",
       "77718  South Eastern Australia      NaN     Joe Czerwinski   \n",
       "67681           Côtes du Rhône      NaN         Roger Voss   \n",
       "69877                    Rueda      NaN  Michael Schachner   \n",
       "\n",
       "      taster_twitter_handle  \\\n",
       "77718                @JoeCz   \n",
       "67681            @vossroger   \n",
       "69877           @wineschach   \n",
       "\n",
       "                                                   title        variety  \\\n",
       "77718  Banrock Station 2006 Chardonnay (South Eastern...     Chardonnay   \n",
       "67681  Cellier des Dauphins 2015 Réserve Rosé (Côtes ...           Rosé   \n",
       "69877  Esperanza 2013 Estate Grown & Bottled Verdejo-...  Verdejo-Viura   \n",
       "\n",
       "                     winery  \n",
       "77718       Banrock Station  \n",
       "67681  Cellier des Dauphins  \n",
       "69877             Esperanza  "
      ]
     },
     "execution_count": 3,
     "metadata": {},
     "output_type": "execute_result"
    }
   ],
   "source": [
    "data.head(3)"
   ]
  },
  {
   "cell_type": "code",
   "execution_count": 4,
   "id": "cc39c1da",
   "metadata": {},
   "outputs": [
    {
     "data": {
      "text/plain": [
       "Unnamed: 0                 0\n",
       "country                    0\n",
       "description                0\n",
       "designation              358\n",
       "points                     0\n",
       "price                     86\n",
       "province                   0\n",
       "region_1                 209\n",
       "region_2                 796\n",
       "taster_name              253\n",
       "taster_twitter_handle    300\n",
       "title                      0\n",
       "variety                    0\n",
       "winery                     0\n",
       "dtype: int64"
      ]
     },
     "execution_count": 4,
     "metadata": {},
     "output_type": "execute_result"
    }
   ],
   "source": [
    "data.isnull().sum()"
   ]
  },
  {
   "cell_type": "code",
   "execution_count": 5,
   "id": "25ae7a7c",
   "metadata": {},
   "outputs": [
    {
     "data": {
      "text/plain": [
       "<AxesSubplot:xlabel='Feature', ylabel='Percent missing'>"
      ]
     },
     "execution_count": 5,
     "metadata": {},
     "output_type": "execute_result"
    },
    {
     "data": {
      "image/png": "[encoded data removed]",
      "text/plain": [
       "<Figure size 576x432 with 1 Axes>"
      ]
     },
     "metadata": {
      "needs_background": "light"
     },
     "output_type": "display_data"
    }
   ],
   "source": [
    "''' Deal with missing values. First, calculate the percentage of\n",
    "missing values for every column, and plot them as a bar chart'''\n",
    "\n",
    "\n",
    "null_vals = data.isnull().sum()/len(data)*100\n",
    "null_vals = pd.DataFrame(null_vals)\n",
    "null_vals.reset_index(inplace = True)\n",
    "null_vals.columns = [\"Feature\",\"Percent missing\"]\n",
    "plt.figure(figsize = (8,6))\n",
    "plt.xticks(rotation=45)\n",
    "sns.barplot(x = \"Feature\",y =\"Percent missing\",data = null_vals)"
   ]
  },
  {
   "cell_type": "code",
   "execution_count": 6,
   "id": "6398bfdb",
   "metadata": {},
   "outputs": [],
   "source": [
    "data = data.dropna(subset=['description', 'variety', 'winery'])"
   ]
  },
  {
   "cell_type": "code",
   "execution_count": 7,
   "id": "68838e6f",
   "metadata": {},
   "outputs": [],
   "source": [
    "'''Our chosen features primarily revolve around textual descriptions, offering rich wine information. \n",
    "To prepare these textual descriptions for analysis, we employed text-processing techniques. \n",
    "In particular, we used Term Frequency-Inverse Document Frequency to transform the textual data into numerical format.\n",
    "To control the dimensionality of the dataset and enhance efficiency, we limited the maximum number of features to 10,000.'''\n",
    "\n",
    "\n",
    "vectorizer = TfidfVectorizer(max_features=10000)  \n",
    "X = vectorizer.fit_transform(data['description'])\n",
    "y_variety = data['variety']\n",
    "y_winery = data['winery']"
   ]
  },
  {
   "cell_type": "code",
   "execution_count": 8,
   "id": "53ce579a",
   "metadata": {},
   "outputs": [],
   "source": [
    "X_train_variety, X_test_variety, y_train_variety, y_test_variety = train_test_split(X, y_variety, test_size=0.15, random_state=42)\n",
    "X_train_winery, X_test_winery, y_train_winery, y_test_winery = train_test_split(X, y_winery, test_size=0.15, random_state=42)"
   ]
  },
  {
   "cell_type": "code",
   "execution_count": 9,
   "id": "5d59f5b3",
   "metadata": {},
   "outputs": [
    {
     "name": "stderr",
     "output_type": "stream",
     "text": [
      "/opt/anaconda3/lib/python3.8/site-packages/sklearn/model_selection/_split.py:725: UserWarning: The least populated class in y has only 1 members, which is less than n_splits=2.\n",
      "  warnings.warn(\n",
      "/opt/anaconda3/lib/python3.8/site-packages/sklearn/model_selection/_split.py:725: UserWarning: The least populated class in y has only 1 members, which is less than n_splits=2.\n",
      "  warnings.warn(\n"
     ]
    },
    {
     "name": "stdout",
     "output_type": "stream",
     "text": [
      "Naive Bayes Accuracy for variety: 0.31794871794871793\n",
      "Naive Bayes Precision Score for variety: 0.24521158790436634\n",
      "Naive Bayes Recall for variety: 0.31794871794871793\n",
      "Naive Bayes F1-score for variety: 0.2595904332074545\n",
      " \n",
      "Naive Bayes Accuracy for winery: 0.010256410256410256\n",
      "Naive Bayes Precision Score for winery: 0.007692307692307693\n",
      "Naive Bayes Recall for winery: 0.010256410256410256\n",
      "Naive Bayes F1-score for winery: 0.008547008547008546\n"
     ]
    }
   ],
   "source": [
    "#Naive Bayes\n",
    "'''The Naive Bayes Classifier is a versatile machine learning algorithm commonly\n",
    "used for text classification tasks like predicting wine variety and winery based on text descriptions. Its strength lies in its probabilistic nature, estimating the conditional probability of a class given features while assuming feature independence.\n",
    "'''\n",
    "nb_params = {'alpha': [0.01, 0.1, 1]}\n",
    "nb_grid_variety = GridSearchCV(MultinomialNB(), nb_params, cv=2, scoring='accuracy')\n",
    "nb_grid_winery = GridSearchCV(MultinomialNB(), nb_params, cv=2, scoring='accuracy')\n",
    "\n",
    "nb_grid_variety.fit(X_train_variety, y_train_variety)\n",
    "nb_grid_winery.fit(X_train_winery, y_train_winery)\n",
    "\n",
    "nb_best_variety = nb_grid_variety.best_estimator_\n",
    "nb_best_winery = nb_grid_winery.best_estimator_\n",
    "\n",
    "nb_pred_variety = nb_best_variety.predict(X_test_variety)\n",
    "nb_pred_winery = nb_best_winery.predict(X_test_winery)\n",
    "\n",
    "nb_accuracy_variety = accuracy_score(y_test_variety, nb_pred_variety)\n",
    "nb_precision_variety = precision_score(y_test_variety, nb_pred_variety, average='weighted', zero_division=0)\n",
    "nb_recall_variety = recall_score(y_test_variety, nb_pred_variety, average='weighted', zero_division=0)\n",
    "nb_f1_variety = f1_score(y_test_variety, nb_pred_variety, average='weighted', zero_division=0)\n",
    "\n",
    "nb_accuracy_winery = accuracy_score(y_test_winery, nb_pred_winery)\n",
    "nb_precision_winery = precision_score(y_test_winery, nb_pred_winery, average='weighted', zero_division=0)\n",
    "nb_recall_winery = recall_score(y_test_winery, nb_pred_winery, average='weighted', zero_division=0)\n",
    "nb_f1_winery = f1_score(y_test_winery, nb_pred_winery, average='weighted', zero_division=0)\n",
    "\n",
    "\n",
    "\n",
    "print(\"Naive Bayes Accuracy for variety:\", nb_accuracy_variety)\n",
    "print(\"Naive Bayes Precision Score for variety:\", nb_precision_variety)\n",
    "print(\"Naive Bayes Recall for variety:\", nb_recall_variety)\n",
    "print(\"Naive Bayes F1-score for variety:\", nb_f1_variety)\n",
    "print(\" \")\n",
    "print(\"Naive Bayes Accuracy for winery:\", nb_accuracy_winery)\n",
    "print(\"Naive Bayes Precision Score for winery:\", nb_precision_winery)\n",
    "print(\"Naive Bayes Recall for winery:\", nb_recall_winery)\n",
    "print(\"Naive Bayes F1-score for winery:\", nb_f1_winery)"
   ]
  },
  {
   "cell_type": "markdown",
   "id": "d2ff057e",
   "metadata": {},
   "source": [
    "This warning indicates that during the process of cross-validation, the sample count of certain classes is lower than the number of folds you have set (n_splits=2), potentially leading to unstable model evaluation results. As mentioned at the beginning, we are unable to handle a large amount of data due to limitations in computer performance."
   ]
  },
  {
   "cell_type": "code",
   "execution_count": 10,
   "id": "f8597ca2",
   "metadata": {
    "scrolled": true
   },
   "outputs": [
    {
     "name": "stderr",
     "output_type": "stream",
     "text": [
      "/opt/anaconda3/lib/python3.8/site-packages/sklearn/model_selection/_split.py:725: UserWarning: The least populated class in y has only 1 members, which is less than n_splits=2.\n",
      "  warnings.warn(\n",
      "/opt/anaconda3/lib/python3.8/site-packages/sklearn/model_selection/_split.py:725: UserWarning: The least populated class in y has only 1 members, which is less than n_splits=2.\n",
      "  warnings.warn(\n"
     ]
    },
    {
     "name": "stdout",
     "output_type": "stream",
     "text": [
      "SVM Accuracy for variety: 0.2512820512820513\n",
      "SVM Precision Score for variety: 0.145157618112666\n",
      "SVM Recall for variety: 0.2512820512820513\n",
      "SVM F1-score for variety: 0.149048385465991\n",
      " \n",
      "SVM Accuracy for winery: 0.0\n",
      "SVM Precision Score for winery: 0.0\n",
      "SVM Recall for winery: 0.0\n",
      "SVM F1-score for winery: 0.0\n"
     ]
    }
   ],
   "source": [
    "#SVM\n",
    "'''Support Vector Machine is a powerful algorithm \n",
    "suitable for both binary and multiclass classification tasks. \n",
    "When applied to the task of predicting wine varieties ind a hyperplane that best separates different wine varieties in the high-dimensional space of the text features. Since wine reviews can have multiple words and features, the high-dimensional aspect of the data aligns well with SVM's strengths. SVMs can capture complex relationships between the words in reviews and the wine varieties, even when these relationships are not linear. This makes SVM a compelling choice for this text classification task, particularly given the high-dimensional nature of textual data.from text descriptions, SVM aims to f\n",
    "'''\n",
    "\n",
    "\n",
    "from sklearn.model_selection import StratifiedKFold\n",
    "\n",
    "svm_params = {'C': [0.1, 1, 10], 'class_weight': ['balanced', None]}\n",
    "svm_grid_variety = GridSearchCV(SVC(), svm_params, cv=2, scoring='accuracy')\n",
    "svm_grid_winery = GridSearchCV(SVC(), svm_params, cv=2, scoring='accuracy')\n",
    "\n",
    "\n",
    "skf_variety = StratifiedKFold(n_splits=2, shuffle=True, random_state=42)\n",
    "svm_grid_variety = GridSearchCV(SVC(), svm_params, cv=skf_variety, scoring='accuracy')\n",
    "svm_grid_variety.fit(X_train_variety, y_train_variety)\n",
    "\n",
    "\n",
    "skf_winery = StratifiedKFold(n_splits=2, shuffle=True, random_state=42)\n",
    "svm_grid_winery = GridSearchCV(SVC(), svm_params, cv=skf_winery, scoring='accuracy')\n",
    "svm_grid_winery.fit(X_train_winery, y_train_winery)\n",
    "\n",
    "svm_best_variety = svm_grid_variety.best_estimator_\n",
    "svm_best_winery = svm_grid_winery.best_estimator_\n",
    "\n",
    "svm_pred_variety = svm_best_variety.predict(X_test_variety)\n",
    "svm_pred_winery = svm_best_winery.predict(X_test_winery)\n",
    "\n",
    "svm_accuracy_variety = accuracy_score(y_test_variety, svm_pred_variety)\n",
    "svm_precision_variety = precision_score(y_test_variety, svm_pred_variety, average='weighted', zero_division=0)\n",
    "svm_recall_variety = recall_score(y_test_variety, svm_pred_variety, average='weighted', zero_division=0)\n",
    "svm_f1_variety = f1_score(y_test_variety, svm_pred_variety, average='weighted', zero_division=0)\n",
    "\n",
    "svm_accuracy_winery = accuracy_score(y_test_winery, svm_pred_winery)\n",
    "svm_precision_winery = precision_score(y_test_winery, svm_pred_winery, average='weighted', zero_division=0)\n",
    "svm_recall_winery = recall_score(y_test_winery, svm_pred_winery, average='weighted', zero_division=0)\n",
    "svm_f1_winery = f1_score(y_test_winery, svm_pred_winery, average='weighted', zero_division=0)\n",
    "\n",
    "\n",
    "\n",
    "print(\"SVM Accuracy for variety:\", svm_accuracy_variety)\n",
    "print(\"SVM Precision Score for variety:\", svm_precision_variety)\n",
    "print(\"SVM Recall for variety:\", svm_recall_variety)\n",
    "print(\"SVM F1-score for variety:\",svm_f1_variety)\n",
    "print(\" \")\n",
    "print(\"SVM Accuracy for winery:\", svm_accuracy_winery)\n",
    "print(\"SVM Precision Score for winery:\", svm_precision_winery)\n",
    "print(\"SVM Recall for winery:\", svm_recall_winery)\n",
    "print(\"SVM F1-score for winery:\", svm_f1_winery)"
   ]
  },
  {
   "cell_type": "markdown",
   "id": "2066284d",
   "metadata": {},
   "source": [
    "This warning indicates that during the process of cross-validation, the sample count of certain classes is lower than the number of folds you have set (n_splits=2), potentially leading to unstable model evaluation results. As mentioned at the beginning, we are unable to handle a large amount of data due to limitations in computer performance."
   ]
  },
  {
   "cell_type": "code",
   "execution_count": 11,
   "id": "7b83499b",
   "metadata": {},
   "outputs": [
    {
     "name": "stderr",
     "output_type": "stream",
     "text": [
      "/opt/anaconda3/lib/python3.8/site-packages/sklearn/model_selection/_split.py:725: UserWarning: The least populated class in y has only 1 members, which is less than n_splits=2.\n",
      "  warnings.warn(\n",
      "/opt/anaconda3/lib/python3.8/site-packages/sklearn/model_selection/_split.py:725: UserWarning: The least populated class in y has only 1 members, which is less than n_splits=2.\n",
      "  warnings.warn(\n"
     ]
    },
    {
     "name": "stdout",
     "output_type": "stream",
     "text": [
      "Random Forest Accuracy for variety: 0.3076923076923077\n",
      "Random Forest Precision Score for variety: 0.20750462379150902\n",
      "Random Forest Recall for variety: 0.3076923076923077\n",
      "Random Forest F1-score for variety: 0.225286862610564\n",
      " \n",
      "Random Forest Accuracy for winery: 0.010256410256410256\n",
      "Random Forest Precision Score for winery: 0.007692307692307693\n",
      "Random Forest Recall for winery: 0.010256410256410256\n",
      "Random Forest F1-score for winery: 0.008547008547008546\n"
     ]
    },
    {
     "name": "stderr",
     "output_type": "stream",
     "text": [
      "/opt/anaconda3/lib/python3.8/site-packages/sklearn/metrics/_classification.py:1469: UndefinedMetricWarning: Precision is ill-defined and being set to 0.0 in labels with no predicted samples. Use `zero_division` parameter to control this behavior.\n",
      "  _warn_prf(average, modifier, msg_start, len(result))\n"
     ]
    }
   ],
   "source": [
    "#RandomForest\n",
    "'''Random Forest is an ensemble learning method that combines multiple decision trees \n",
    "to make predictions. Given that our task is to predict the 'variety' and 'winery' of wines from their textual descriptions, Random Forest's ability to handle nonlinear relationships between features and target variables becomes relevant. Wine reviews can contain nuanced and complex information, and Random Forest can capture intricate patterns and relationships that might be missed by a linear model like Logistic Regression. By aggregating predictions from multiple decision trees, Random Forest can provide a robust prediction of wine varieties based on the textual data.\n",
    "'''\n",
    "\n",
    "rf_params = {'n_estimators': [50, 100, 200]}\n",
    "rf_grid_variety = GridSearchCV(RandomForestClassifier(random_state=42), rf_params, cv=2, scoring='accuracy')\n",
    "rf_grid_winery = GridSearchCV(RandomForestClassifier(random_state=42), rf_params, cv=2, scoring='accuracy')\n",
    "\n",
    "rf_grid_variety.fit(X_train_variety, y_train_variety)\n",
    "rf_grid_winery.fit(X_train_winery, y_train_winery)\n",
    "\n",
    "rf_best_variety = rf_grid_variety.best_estimator_\n",
    "rf_best_winery = rf_grid_winery.best_estimator_\n",
    "\n",
    "rf_pred_variety = rf_best_variety.predict(X_test_variety)\n",
    "rf_pred_winery = rf_best_winery.predict(X_test_winery)\n",
    "\n",
    "\n",
    "rf_accuracy_variety = accuracy_score(y_test_variety, rf_pred_variety)\n",
    "rf_precision_variety = precision_score(y_test_variety, rf_pred_variety, average='weighted')\n",
    "rf_recall_variety = recall_score(y_test_variety, rf_pred_variety, average='weighted')\n",
    "rf_f1_variety = f1_score(y_test_variety, rf_pred_variety, average='weighted')\n",
    "\n",
    "rf_accuracy_winery = accuracy_score(y_test_winery, rf_pred_winery)\n",
    "rf_precision_winery = precision_score(y_test_winery, rf_pred_winery, average='weighted', zero_division=0)\n",
    "rf_recall_winery = recall_score(y_test_winery, rf_pred_winery, average='weighted', zero_division=0)\n",
    "rf_f1_winery = f1_score(y_test_winery, rf_pred_winery, average='weighted', zero_division=0)\n",
    "\n",
    "\n",
    "\n",
    "print(\"Random Forest Accuracy for variety:\", rf_accuracy_variety)\n",
    "print(\"Random Forest Precision Score for variety:\", rf_precision_variety)\n",
    "print(\"Random Forest Recall for variety:\", rf_recall_variety)\n",
    "print(\"Random Forest F1-score for variety:\", rf_f1_variety)\n",
    "print(\" \")\n",
    "print(\"Random Forest Accuracy for winery:\", rf_accuracy_winery)\n",
    "print(\"Random Forest Precision Score for winery:\", rf_precision_winery)\n",
    "print(\"Random Forest Recall for winery:\", rf_recall_winery)\n",
    "print(\"Random Forest F1-score for winery:\", rf_f1_winery)"
   ]
  },
  {
   "cell_type": "markdown",
   "id": "47a49ae3",
   "metadata": {},
   "source": [
    "This warning indicates that during the process of cross-validation, the sample count of certain classes is lower than the number of folds you have set (n_splits=2), potentially leading to unstable model evaluation results. As mentioned at the beginning, we are unable to handle a large amount of data due to limitations in computer performance."
   ]
  },
  {
   "cell_type": "markdown",
   "id": "fae5a3c6",
   "metadata": {},
   "source": [
    "For predicting the winery, the performance of all three models was very low. This could indicate the complexity of predicting the winery from the given data or a lack of sufficient features for accurate prediction. Therefore, we only discuss the variety of wine as result.\n"
   ]
  },
  {
   "cell_type": "code",
   "execution_count": 12,
   "id": "b724ef7e",
   "metadata": {},
   "outputs": [
    {
     "data": {
      "image/png": "[encoded data removed]",
      "text/plain": [
       "<Figure size 1080x720 with 4 Axes>"
      ]
     },
     "metadata": {
      "needs_background": "light"
     },
     "output_type": "display_data"
    }
   ],
   "source": [
    "import matplotlib.pyplot as plt\n",
    "import seaborn as sns\n",
    "\n",
    "models = ['Naive Bayes', 'SVM', 'Random Forest']\n",
    "accuracy_variety = [0.318, 0.251, 0.308]\n",
    "precision_variety = [0.245, 0.145, 0.208]\n",
    "recall_variety = [0.318, 0.251, 0.308]\n",
    "f1_variety = [0.260, 0.149, 0.225]\n",
    "\n",
    "plt.figure(figsize=(15, 10))\n",
    "\n",
    "# Plot 1: Accuracy\n",
    "plt.subplot(2, 2, 1)\n",
    "sns.barplot(x=models, y=accuracy_variety, color='blue')\n",
    "plt.title('Accuracy')\n",
    "plt.ylim(0, 0.5)\n",
    "\n",
    "# Plot 2: Precision\n",
    "plt.subplot(2, 2, 2)\n",
    "sns.barplot(x=models, y=precision_variety, color='orange')\n",
    "plt.title('Precision')\n",
    "plt.ylim(0, 0.5)\n",
    "\n",
    "# Plot 3: Recall\n",
    "plt.subplot(2, 2, 3)\n",
    "sns.barplot(x=models, y=recall_variety, color='green')\n",
    "plt.title('Recall')\n",
    "plt.ylim(0, 0.5)\n",
    "\n",
    "# Plot 4: F1-score\n",
    "plt.subplot(2, 2, 4)\n",
    "sns.barplot(x=models, y=f1_variety, color='red')\n",
    "plt.title('F1-score')\n",
    "plt.ylim(0, 0.5)\n",
    "\n",
    "plt.tight_layout()\n",
    "plt.show()\n"
   ]
  },
  {
   "cell_type": "markdown",
   "id": "41e2aa3e",
   "metadata": {},
   "source": [
    "Among the three models, Naive Bayes achieved the highest accuracy, precision, recall, and F1-score for predicting wine variety. It outperformed SVM and Random Forest."
   ]
  },
  {
   "cell_type": "markdown",
   "id": "63835c88",
   "metadata": {},
   "source": [
    "In our recent project, we encountered a significant challenge stemming from the sheer volume of data. The computer's memory reached its limits, effectively stalling the generation of results. To address this obstacle, we strategically turned to sampling. This involved condensing the original extensive dataset, which boasted 130,000 records, into a mere 1% representation. Yet, it's essential to recognize that this downsizing inevitably led to a dip in predictive efficacy. While we managed to achieve an impressive accuracy score of 0.7 using the complete dataset, the accuracy plummeted to 0.3 following the sampling process. This starkly highlights the critical role that data quantity plays in refining prediction precision.\n",
    "\n"
   ]
  },
  {
   "cell_type": "markdown",
   "id": "25704fa1",
   "metadata": {},
   "source": [
    "Importantly, this experience underscores a key takeaway: a more substantial dataset correlates with finely-tuned predictions. Looking ahead, the prospect of utilizing more powerful computer resources holds the promise of training models with unprecedented precision, ultimately leading to even more impressive outcomes. In the future, with the advent of more robust computing equipment, leveraging larger datasets becomes a viable avenue for achieving superior models and results."
   ]
  }
 ],
 "metadata": {
  "kernelspec": {
   "display_name": "python3.8.8",
   "language": "python",
   "name": "python3.8.8"
  },
  "language_info": {
   "codemirror_mode": {
    "name": "ipython",
    "version": 3
   },
   "file_extension": ".py",
   "mimetype": "text/x-python",
   "name": "python",
   "nbconvert_exporter": "python",
   "pygments_lexer": "ipython3",
   "version": "3.8.8"
  }
 },
 "nbformat": 4,
 "nbformat_minor": 5
}
